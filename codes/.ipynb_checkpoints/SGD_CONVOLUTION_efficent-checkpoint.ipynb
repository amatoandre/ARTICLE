{
 "cells": [
  {
   "cell_type": "markdown",
   "id": "472ff886",
   "metadata": {},
   "source": [
    "# SGD with Mini Batch for Convolution Type MV-SDE"
   ]
  },
  {
   "cell_type": "markdown",
   "id": "dd98ef24",
   "metadata": {},
   "source": [
    "First of all, we import all the packages needed to use the mathematical functions of python."
   ]
  },
  {
   "cell_type": "code",
   "execution_count": 1,
   "id": "e25496e9",
   "metadata": {},
   "outputs": [],
   "source": [
    "import math\n",
    "import numpy as np\n",
    "import matplotlib.pyplot as plt\n",
    "import time\n",
    "from numpy import linalg as LA\n",
    "from numpy import mean\n",
    "from tabulate import tabulate"
   ]
  },
  {
   "cell_type": "markdown",
   "id": "6967e6a0",
   "metadata": {},
   "source": [
    "The original MV-SDE is given as :\n",
    "\n",
    "$$\\textrm{d} X_t = \\left. \\mathbb{E}\\left[\\exp\\left(-\\cfrac{(X_t- x)^2}{2}\\right)\\right]\\right|_{x=X_t}  \\textrm{d} t +  \\sigma \\textrm{d} W_t, \\quad X_0 = \\mathcal{N}_{(0,1)}.$$\n",
    "\n",
    "Note that above is of the form of equation (1.1) in Belomestny-Schoenmakers 2018. In paticular, we are interested in the approximation:\n",
    "$$ \\textrm{d} X_t = \\sum^K_{k=0}\\gamma_k(t) \\alpha_k(X_t) \\textrm{d} t +  \\sigma \\textrm{d} W_t, \\quad X_0 = \\mathcal{N}_{(0,1)}. $$\n",
    "The above is of of the form of equation (2.3) in Belomestny-Schoenmakers 2018."
   ]
  },
  {
   "cell_type": "markdown",
   "id": "18d08153",
   "metadata": {},
   "source": [
    "In the MV-SDE we see that:\n",
    "\n",
    "* K = fixed parameter + 1, d = 1 e q = 1;\n",
    "* $ \\varphi_k(x) = \\overline{H}_k(x) \\mathrm{e}^{-x^2/2}, \\hspace{1cm} \\gamma_k(t) = \\mathbb {E}[\\varphi_k(X_t)], \\hspace{1cm} \\mbox{for } k = 0, \\cdots, K$; \n",
    "* $ \\alpha_k(x) = \\pi^{1/4}\\Bigl( \\frac{1}{2}\\Bigr)^{k/2} \\frac{x^k}{\\sqrt{k!}} \\mathrm{e}^{-x^2/4}, \\hspace{1cm} \\mbox{for } k = 0, \\cdots, K$; \n",
    "* $ \\beta(x)=(\\sigma, 0, \\cdots, 0)^T $.\n",
    "\n",
    "Also:\n",
    "\n",
    "$$ \\alpha'_k(x) = -\\pi^{1/4}\\Bigl( \\frac{1}{2}\\Bigr)^{k/2+1} \\frac{x^{k-1}  (x^2-2k) }{\\sqrt{k!}} \\mathrm{e}^{-x^2/4}, \\hspace{1cm} \\mbox{for } k = 0, \\cdots K. $$ \n",
    "\n",
    "In the above, $\\overline{H}_k(x)$ are the normalised Hermite polynomials:\n",
    "\n",
    "$$ \\overline{H}_k(x) = c_k (-1)^k \\mathrm{e}^{x^2/2} \\frac{\\mathrm{d}^k}{\\mathrm{d} x^k} \\bigl( \\mathrm{e}^{-x^2/2}\\bigr), \\hspace{1cm} c_k = \\bigl(2^k k! \\sqrt{\\pi} \\bigr)^{-1/2}. $$\n",
    "\n",
    "In particolar, we use the explicit formula in order to compute $ \\overline{H}_k(x)$ in the Euler method:\n",
    "\n",
    "$$ \\overline{H}_n(x) = c_n n! \\sum^{\\left[\\frac{n}{2}\\right]}_{m=0} \\frac{(-1)^m}{m! (n-2m)!} \\frac{x^{n-2m}}{2^m}, $$\n",
    "\n",
    "with the recurrence relation:\n",
    "\n",
    "$$ \\overline{H}_{n+1}(x) = x\\overline{H}_n(x) - n\\overline{H}_{n-1}(x). $$"
   ]
  },
  {
   "cell_type": "markdown",
   "id": "c06b2833",
   "metadata": {},
   "source": [
    "## Euler - Monte Carlo Method"
   ]
  },
  {
   "cell_type": "markdown",
   "id": "1731c353",
   "metadata": {},
   "source": [
    "Before showing the function that applies the Euler - Monte Carlo method, let us look at a couple of recursive functions that will be called."
   ]
  },
  {
   "cell_type": "code",
   "execution_count": 2,
   "id": "55d9040c",
   "metadata": {},
   "outputs": [],
   "source": [
    "def factorial(n):\n",
    "    if n == 1:\n",
    "        return [1, 1]\n",
    "    else:\n",
    "        return factorial(n-1)+[math.factorial(n)]\n",
    "    \n",
    "def exponential(K,x):\n",
    "    if K == 1:\n",
    "        return [x**0, x]\n",
    "    else:\n",
    "        return exponential(K-1,x)+[x**K] \n",
    "    \n",
    "def exponential1(K,x):\n",
    "    if K == 0:\n",
    "        return [x**0, x**0]   # [x**(-1), x**0] NOT CORRECT\n",
    "    else:\n",
    "        return exponential1(K-1,x)+[x**K]\n",
    "    \n",
    "def alpha(K, M, x):\n",
    "    return ( (( math.pi**(1/4) * (1/2)**(np.array(range(K+1))/2) ) * np.ones((M,1)) ).transpose() \\\n",
    "            * np.array(exponential(K,x)) \\\n",
    "            * (( np.array(factorial(K))**(1/2) ) * np.ones((M,1)) ).transpose() \\\n",
    "            * np.exp(-(x**2)/4) * np.ones((K+1,1)) ) \n",
    "        \n",
    "def alpha1(K, M, x):\n",
    "    return ( - (( math.pi**(1/4) * (1/2)**(np.array(range(K+1))/2+1) ) * np.ones((M,1)) ).transpose() \\\n",
    "            * np.array(exponential1(K-1, x)) \\\n",
    "            * ( (x**2) * np.ones((K+1,1)) - ( 2 * (np.array(range(K+1))) * np.ones((M,1)) ).transpose() ) \\\n",
    "            * (( np.array(factorial(K))**(1/2) ) * np.ones((M,1)) ).transpose() \\\n",
    "            * np.exp(-(x**2)/4) * np.ones((K+1,1)) ) \n",
    "        \n",
    "def hh(n, x):\n",
    "    return (  ( (2**n)**(-(1/2)) ) * ( math.factorial(n)**(-(1/2)) ) * ( (math.sqrt(math.pi))**(-(1/2)) ) \\\n",
    "            * math.factorial(n) \\\n",
    "            * sum( [ ( ((-1)**m) * (x**(n-2*m)) ) / ( math.factorial(m) * math.factorial(n-2*m) * (2**m) ) for m in range(math.floor(n/2)+1) ] ) )  \n",
    "\n",
    "def H(K, M, x):\n",
    "    if K == 1:\n",
    "            return [hh(K, x), ( math.sqrt(math.pi) )**(-(1/2)) * np.ones((M))]\n",
    "    return H(K-1, M, x)+[hh(K, x)]"
   ]
  },
  {
   "cell_type": "code",
   "execution_count": 3,
   "id": "8c7bcc82",
   "metadata": {},
   "outputs": [],
   "source": [
    "def monte_carlo(sigma, T, N, M, K):\n",
    "    h = T / N\n",
    "    X = np.random.normal(0, 1, M)\n",
    "    gamma = np.zeros((K+1, N+1))\n",
    "    gamma[:,0] = mean( (np.array(H(K, M, X)) * np.exp(-((X ** 2)/2))), axis=1 )\n",
    "    \n",
    "    for i in range(N):\n",
    "        W = np.random.normal(0, 1, M) \n",
    "        X = X + ( np.dot(gamma[:,i], alpha(K, M, X)) ) * h + sigma * math.sqrt(h) * W\n",
    "        gamma[:,i+1] = mean( (np.array(H(K, M, X)) * np.exp(-((X ** 2)/2))), axis=1 )\n",
    "    \n",
    "    return X, gamma "
   ]
  },
  {
   "cell_type": "markdown",
   "id": "7057b80b",
   "metadata": {},
   "source": [
    "## Gradient Descend Method"
   ]
  },
  {
   "cell_type": "markdown",
   "id": "d1ff9fa5",
   "metadata": {},
   "source": [
    "### Euler for the simulation of $Z(\\xi , W)$ and $\\left( Z^a(\\tilde{\\xi} , \\tilde{W}), \\partial_{a_{h,j}} Z^a(\\tilde{\\xi} , \\tilde{W}) \\right)$"
   ]
  },
  {
   "cell_type": "markdown",
   "id": "e7af779d",
   "metadata": {},
   "source": [
    "We define the two functions that allow us to simulate $Z(\\xi , W)$ and $\\left( Z^a(\\tilde{\\xi} , \\tilde{W}), \\partial_{a_{h,j}} Z^a(\\tilde{\\xi} , \\tilde{W}) \\right)$, i.e. the solutions of the system given by the following differential equations:\n",
    "\n",
    "$$ dZ_t = \\textbf{h} \\left((\\mathcal{L}a)(t)\\right) \\left( \\alpha(t, Z_t)dt + \\beta(t, Z_t)dW_t\\right), \\ \\ \\ Z_0 = \\xi.$$\n",
    "\n",
    "$$ dY^{j,k}_t = g_j(t) \\nabla \\textbf{h}_k \\left((\\mathcal{L}a)(t)\\right) \\left( \\alpha(t, Z_t)dt + \\beta(t, Z_t)dW_t\\right) + \\sum_{i=0}^d Y^{j,k,i}_t  \\textbf{h} \\left((\\mathcal{L}a)(t)\\right) \\left( \\partial_{z_i}\\alpha(t, Z_t)dt + \\partial_{z_i}\\beta(t, Z_t)dW_t\\right), \\ \\ \\ \\ Y^{j,k}_0 = 0,$$\n",
    "\n",
    "for $j = 0, \\cdots , n$ and $k = 1, \\cdots, K$."
   ]
  },
  {
   "cell_type": "markdown",
   "id": "2b13a353",
   "metadata": {},
   "source": [
    "This function is used to create the base of the polynomial space. It takes in input the dimension $n$, the time $t$ in which the base vectors are to be calculated and the base type chosen. Returns a $n+1$ dimensional vector representing the base items calculated in $t$."
   ]
  },
  {
   "cell_type": "markdown",
   "id": "87335224",
   "metadata": {},
   "source": [
    "* canonical base:   $g_i(t):= t^i$ with equidistant knots;\n",
    "* Lagrange's base: $g_i(t):=\\prod_{j \\leq n \\ and  \\ j\\neq n} \\left( \\frac{t - t_j}{t_i - t_j} \\right) $ with Chebyshev's knots: $\\frac{a+b}{2} + \\frac{b-a}{2} cos \\left( \\frac{2k + 1}{2n +2} \\pi \\right)$"
   ]
  },
  {
   "cell_type": "code",
   "execution_count": 4,
   "id": "ded2911a",
   "metadata": {},
   "outputs": [],
   "source": [
    "def base(T, N, n, K, tipo):\n",
    "    g = np.ones(n+1)\n",
    "    cc = np.linspace(0, T, N+1)\n",
    "    const = ( ( 2 ** (np.array(range(K+1))) ) ** (-(1/2)) ) * ( np.array(factorial(K)) ** (-(1/2)) ) * ( math.sqrt(math.pi) ** (-(1/2)) )\n",
    "    a = np.zeros((n+1, K+1)) \n",
    "    \n",
    "    if tipo == 'canonical':\n",
    "        g = np.array([ cc ** i for i in range(n+1)]) \n",
    "        \n",
    "        a[0, :] = const\n",
    "        \n",
    "        return a.transpose(), g\n",
    "    \n",
    "    elif tipo == 'lagrange':\n",
    "        l = [(0 + T)/2 + (T - 0)/2 * np.cos(((2 * i + 1)/ (2 * n + 2)) * math.pi) for i in range(n+1)]\n",
    "        \n",
    "        g = np.array([math.prod([((cc - l[j]) / (l[i] - l[j])) for j in range(n+1) if j!=i]) for i in range(n+1)])\n",
    "        \n",
    "        a[:,:]= const\n",
    "        \n",
    "        return a.transpose(), g \n",
    "        \n",
    "    \n",
    "    else:\n",
    "        return 'err'"
   ]
  },
  {
   "cell_type": "markdown",
   "id": "2808e4bc",
   "metadata": {},
   "source": [
    "In this simplified algorithm the two maps $\\textbf{h}$ and $ H $ are respectively the identity function and the null function. Considering the values of the coefficient functions for the convolution type MV-SDE, we have that the equations are:\n",
    "\n",
    "$$ \\mathrm{d} Z_t = \\Big( (\\mathcal{L}a)_0(t)\\alpha_0(Z_t) + \\cdots + (\\mathcal{L}a)_K(t)\\alpha_K(Z_t) \\Big) \\mathrm{d} t + \\sigma \\mathrm{d} W_t, \\ \\ \\ Z_0 = \\mathcal{N}_{(0,1)}. $$ \n",
    "\n",
    "$$ (\\mathcal{L}a)_{l=0, \\cdots , K}(t) = \\sum^{n}_{i=1} a_{l,i} \\prod_{\\substack{ 1\\leq j \\leq n \\\\ i\\neq j}} \\frac{t-t_j}{t_i - t_j}. $$\n",
    "\n",
    "The gradient processes $Y^{i, l}_t:= \\partial_{a_{l,i}}Z_t, \\mbox{ with } l=0, \\cdots, K \\mbox{ and } i = 1, \\ldots, n,$ are given as:\n",
    "\n",
    "$$ \\begin{align}\n",
    "\\textrm{d}Y^{i,0}_t &= \\bigl( \\frac{t-t_j}{t_i - t_j} \\alpha_0(Z_t) + (\\mathcal{L}a)_0(t) \\alpha^\\prime_0(Z_t)  Y^{i,0}_t + \\cdots + (\\mathcal{L}a)_K(t) \\alpha^\\prime_K(Z_t)  Y^{i,0}_t\\bigr) \\textrm{d} t, \\quad Y^{i,0}_0 = 0,\\\\\n",
    "\\vdots \\\\\n",
    "\\textrm{d}Y^{i,K}_t &= \\bigl( \\frac{t-t_j}{t_i - t_j} \\alpha_K(Z_t) + (\\mathcal{L}a)_0(t) \\alpha^\\prime_0(Z_t)  Y^{i,K}_t + \\cdots + (\\mathcal{L}a)_K(t) \\alpha^\\prime_K(Z_t)  Y^{i,K}_t\\bigr) \\textrm{d} t, \\quad Y^{i,K}_0 = 0,\\\\\n",
    "\\end{align} $$\n"
   ]
  },
  {
   "cell_type": "code",
   "execution_count": 5,
   "id": "ca80ac0b",
   "metadata": {},
   "outputs": [],
   "source": [
    "def euler(a, sigma, n, N, M, h, K, g):\n",
    "    \n",
    "    X = np.zeros((N+1, M))\n",
    "    Z = np.zeros((N+1, M))\n",
    "    Y = np.zeros((n+1, K+1, N+1, M))\n",
    "    \n",
    "    Tensor = np.zeros((M, K+1, n+1))\n",
    "\n",
    "    X[0,:] = np.random.normal(0, 1, M) \n",
    "    Z[0,:] = np.random.normal(0, 1, M)\n",
    " \n",
    "    \n",
    "    for i in range(N):\n",
    "        c = np.dot(a, g[:,i])\n",
    "        Tensor[:,:,:] = np.array(g[:,i])\n",
    "        \n",
    "        W = np.random.normal(0, 1, (2, M)) \n",
    "    \n",
    "        X[i+1] = X[i] + ( np.dot(c, alpha(K, M, X[i])) ) * h + sigma * math.sqrt(h) * W[0] \n",
    "\n",
    "        Y[:,:,i+1,:] = Y[:,:,i,:] + ( Tensor.transpose() * ( alpha(K, M, X[i]) * np.ones((n+1, K+1, M)) ) ) * ( np.dot(c, alpha1(K, M, X[i]) ) * Y[:,:,i,:] ) * h\n",
    "\n",
    "        Z[i+1] = Z[i] + ( np.dot(c, alpha(K, M, Z[i])) ) * h + sigma * math.sqrt(h) * W[1]\n",
    "        \n",
    "    \n",
    "    return X, Z, Y"
   ]
  },
  {
   "cell_type": "markdown",
   "id": "ad7bac12",
   "metadata": {},
   "source": [
    "### Descent Method"
   ]
  },
  {
   "cell_type": "markdown",
   "id": "4da5da8f",
   "metadata": {},
   "source": [
    "In this section are the two most important functions of the code. The first is used to calculate the realisation of the gradient for stochastic descent, i.e. the function $v$. In general, the writing of $v$, component by component, is as follows:\n",
    "\n",
    "$$v_{j,k}(a; \\xi, W; \\tilde{\\xi}, \\tilde{W}) = 2 \\int_0^T \\langle \\varphi (Z^a_t(\\xi,W)) - \\textbf{h} ((\\mathcal{L}a)(t)), \\nabla_x \\varphi (Z^a_t(\\tilde{\\xi}, \\tilde{W})) Y_t^{a;j,k}(\\tilde{\\xi}, \\tilde{W}) - \\partial_{a_{j,k}}\\textbf{h}((\\mathcal{L}a)(t))\\rangle dt, $$ \n",
    "with $j = 0, \\cdots , n$ e $k = 0, \\cdots, K$."
   ]
  },
  {
   "cell_type": "markdown",
   "id": "0de3e8a5",
   "metadata": {},
   "source": [
    "As in the previous cases, we write this e quation in the specific case of our algorithm. In particular, we have divided the time interval into N steps and therefore approximate the integral with a sum.\n",
    "\n",
    "$$ v_{j,1}(a; W; \\tilde{W}) = $$"
   ]
  },
  {
   "cell_type": "markdown",
   "id": "713e9a7f",
   "metadata": {},
   "source": [
    "We highlight that before returning the value $v$ this fuction averages it. This is in the case if $M>1$, where we exploit multiple simulations of the Brownian to get a better estimate of $v$."
   ]
  },
  {
   "cell_type": "code",
   "execution_count": 16,
   "id": "ecde5727",
   "metadata": {},
   "outputs": [
    {
     "ename": "SyntaxError",
     "evalue": "invalid syntax (4255584016.py, line 23)",
     "output_type": "error",
     "traceback": [
      "\u001b[1;36m  File \u001b[1;32m\"C:\\Users\\Andrea\\AppData\\Local\\Temp\\ipykernel_16360\\4255584016.py\"\u001b[1;36m, line \u001b[1;32m23\u001b[0m\n\u001b[1;33m    a = a - eta * v\u001b[0m\n\u001b[1;37m    ^\u001b[0m\n\u001b[1;31mSyntaxError\u001b[0m\u001b[1;31m:\u001b[0m invalid syntax\n"
     ]
    }
   ],
   "source": [
    "def stochastic_gradient_descent(a_0, n, r0, rho, sigma, N, M, X0, eps, h, g, gamma, l):\n",
    "    \n",
    "    a = a_0 \n",
    "    norm = LA.norm(gamma)\n",
    "    \n",
    "    for m in range(50000):\n",
    "        \n",
    "        if (m % l == 0):\n",
    "            if ( (LA.norm(np.dot(a,g) - gamma)/ norm) < eps ) :\n",
    "                break\n",
    "            \n",
    "        eta = r0 / ((m + 1) ** rho) \n",
    "        \n",
    "        Z, Ztilde, Ytilde = euler(a, sigma, n, N, M, h, K, g)\n",
    "        \n",
    "        \n",
    "        v = np.zeros(n+1)\n",
    "        \n",
    "        for j in range(n+1): \n",
    "\n",
    "            v1[j] = mean( 2 * h * sum( ( ) ) \n",
    "        \n",
    "        a = a - eta * v\n",
    "        \n",
    "    return m"
   ]
  },
  {
   "cell_type": "markdown",
   "id": "89e00b41",
   "metadata": {},
   "source": [
    "## Main"
   ]
  },
  {
   "cell_type": "markdown",
   "id": "3c04ab48",
   "metadata": {},
   "source": [
    "Let us conclude by showing the main that calls the functions defined above. Let us recall what the values we will give as input to the functions we will call up correspond to:"
   ]
  },
  {
   "cell_type": "markdown",
   "id": "40527834",
   "metadata": {},
   "source": [
    "* T : final istant,\n",
    "* K : number of gamma function in the SDE\n",
    "* $M_1$ : number of simulation for the MC,\n",
    "* $N_1$ : time stes for the MC,\n",
    "* N : time steps for the SGD,\n",
    "* $\\sigma$: constant diffusion,\n",
    "* h : time step,\n",
    "* $X_0$ : initial data,\n",
    "* nnn : dimension of the polynomial space,\n",
    "* $a_0$ : initial value of the SGD method vector,\n",
    "* $r_0$ e $\\rho$: learning rates constants. Must hold that: $r_0 \\in (0, +\\infty)$ and $\\frac{1}{2} < \\rho \\leq 1$,\n",
    "* m: number of iteration for the SGD method,\n",
    "* M: Mini Batch between SGD and GD,\n",
    "* $\\epsilon$: 1% relative error tolerance,\n",
    "* repetition: number of identical simulations we run for each parameter combination."
   ]
  },
  {
   "cell_type": "code",
   "execution_count": 10,
   "id": "479ab0d6",
   "metadata": {},
   "outputs": [
    {
     "name": "stdout",
     "output_type": "stream",
     "text": [
      "Euler - Monte Carlo execution time:  1000.5\n",
      " \n"
     ]
    }
   ],
   "source": [
    "if __name__ == \"__main__\":\n",
    "    \n",
    "    # variable parameters\n",
    "    \n",
    "    T = 1\n",
    "    N1 = 100\n",
    "    N = 100\n",
    "    K = 20\n",
    "    sigma = 1\n",
    "    n = 3\n",
    "    M1 = 1000000\n",
    "    M = 1 # 10, 100, 1000, 10000\n",
    "    h = T / N  \n",
    "\n",
    "    # Euler - Monte Carlo\n",
    "\n",
    "    start = time.process_time()   # the stopwatch starts\n",
    "    X, gamma = monte_carlo(sigma, T, N1, M1, K)\n",
    "    end = time.process_time()   # the stopwatch stops\n",
    "\n",
    "    print(\"Euler - Monte Carlo execution time: \", end - start)\n",
    "    print(\" \")\n",
    "\n",
    "    # # Gradient Descent\n",
    "    \n",
    "    # start = time.process_time()   # the stopwatch starts\n",
    "    # a_0, g = base(T, N, n, K, 'lagrange')\n",
    "    # Z, Ztilde, Ytilde = euler(a_0, sigma, n, N, M, h, K, g)\n",
    "    # end = time.process_time()   # the stopwatch stops\n",
    "\n",
    "    # print(\"Euler - Monte Carlo execution time: \", end - start)\n",
    "    # print(\" \")"
   ]
  },
  {
   "cell_type": "code",
   "execution_count": 8,
   "id": "fcef1279",
   "metadata": {},
   "outputs": [
    {
     "name": "stdout",
     "output_type": "stream",
     "text": [
      "[[ 4.03443488e-03 -9.41328124e-04 -1.03753954e-03 ...  4.48727643e-02\n",
      "   4.49620953e-02  4.50695628e-02]\n",
      " [ 5.31183365e-01  5.26571874e-01  5.24454164e-01 ...  4.55826022e-01\n",
      "   4.55753040e-01  4.55628759e-01]\n",
      " [-9.49829011e-02 -1.22234909e-01 -1.22764224e-01 ... -1.21964507e-01\n",
      "  -1.21903215e-01 -1.21811646e-01]\n",
      " ...\n",
      " [ 3.61901305e-06  5.45490752e-05  5.08126251e-05 ...  5.90966848e-05\n",
      "   5.90831599e-05  5.82536195e-05]\n",
      " [-1.31285871e-05 -1.50798097e-05 -1.09115030e-05 ...  1.12382700e-05\n",
      "   1.09106702e-05  1.08313151e-05]\n",
      " [-1.07245106e-06 -2.39133326e-05 -2.28758193e-05 ... -3.44484392e-05\n",
      "  -3.44193774e-05 -3.39341001e-05]]\n"
     ]
    }
   ],
   "source": []
  },
  {
   "cell_type": "code",
   "execution_count": null,
   "id": "3b609559",
   "metadata": {},
   "outputs": [],
   "source": []
  },
  {
   "cell_type": "code",
   "execution_count": null,
   "id": "07b50e80",
   "metadata": {},
   "outputs": [],
   "source": []
  },
  {
   "cell_type": "code",
   "execution_count": 7,
   "id": "8e9e0122",
   "metadata": {
    "scrolled": true
   },
   "outputs": [
    {
     "name": "stdout",
     "output_type": "stream",
     "text": [
      "Euler - Monte Carlo execution time:  44.5625\n",
      " \n"
     ]
    },
    {
     "ename": "KeyboardInterrupt",
     "evalue": "",
     "output_type": "error",
     "traceback": [
      "\u001b[1;31m---------------------------------------------------------------------------\u001b[0m",
      "\u001b[1;31mKeyboardInterrupt\u001b[0m                         Traceback (most recent call last)",
      "\u001b[1;32m~\\AppData\\Local\\Temp\\ipykernel_15748\\208229925.py\u001b[0m in \u001b[0;36m<module>\u001b[1;34m\u001b[0m\n\u001b[0;32m     60\u001b[0m \u001b[1;33m\u001b[0m\u001b[0m\n\u001b[0;32m     61\u001b[0m                         \u001b[0mstart\u001b[0m \u001b[1;33m=\u001b[0m \u001b[0mtime\u001b[0m\u001b[1;33m.\u001b[0m\u001b[0mprocess_time\u001b[0m\u001b[1;33m(\u001b[0m\u001b[1;33m)\u001b[0m   \u001b[1;31m# the stopwatch starts\u001b[0m\u001b[1;33m\u001b[0m\u001b[1;33m\u001b[0m\u001b[0m\n\u001b[1;32m---> 62\u001b[1;33m                         \u001b[0mmm\u001b[0m \u001b[1;33m=\u001b[0m \u001b[1;33m[\u001b[0m\u001b[0mstochastic_gradient_descent\u001b[0m\u001b[1;33m(\u001b[0m\u001b[0ma1_0\u001b[0m\u001b[1;33m,\u001b[0m \u001b[0ma2_0\u001b[0m\u001b[1;33m,\u001b[0m \u001b[0mn\u001b[0m\u001b[1;33m,\u001b[0m\u001b[0mr0\u001b[0m\u001b[1;33m[\u001b[0m\u001b[0mi\u001b[0m\u001b[1;33m]\u001b[0m\u001b[1;33m,\u001b[0m \u001b[0mrho\u001b[0m\u001b[1;33m[\u001b[0m\u001b[0mj\u001b[0m\u001b[1;33m]\u001b[0m\u001b[1;33m,\u001b[0m \u001b[0msigma\u001b[0m\u001b[1;33m,\u001b[0m \u001b[0mN\u001b[0m\u001b[1;33m,\u001b[0m \u001b[0mM\u001b[0m\u001b[1;33m[\u001b[0m\u001b[0mp\u001b[0m\u001b[1;33m]\u001b[0m\u001b[1;33m,\u001b[0m \u001b[0mX0\u001b[0m\u001b[1;33m,\u001b[0m \u001b[0meps\u001b[0m\u001b[1;33m,\u001b[0m \u001b[0mh\u001b[0m\u001b[1;33m,\u001b[0m \u001b[0mg\u001b[0m\u001b[1;33m,\u001b[0m \u001b[0mgamma1\u001b[0m\u001b[1;33m,\u001b[0m \u001b[0mgamma2\u001b[0m\u001b[1;33m,\u001b[0m \u001b[0ml\u001b[0m\u001b[1;33m[\u001b[0m\u001b[0mp\u001b[0m\u001b[1;33m]\u001b[0m\u001b[1;33m)\u001b[0m \u001b[1;32mfor\u001b[0m \u001b[0mk\u001b[0m \u001b[1;32min\u001b[0m \u001b[0mrange\u001b[0m\u001b[1;33m(\u001b[0m\u001b[0mrepetition\u001b[0m\u001b[1;33m)\u001b[0m\u001b[1;33m]\u001b[0m\u001b[1;33m\u001b[0m\u001b[1;33m\u001b[0m\u001b[0m\n\u001b[0m\u001b[0;32m     63\u001b[0m                         \u001b[0mm\u001b[0m\u001b[1;33m[\u001b[0m\u001b[0mj\u001b[0m\u001b[1;33m,\u001b[0m\u001b[1;36m3\u001b[0m\u001b[1;33m*\u001b[0m\u001b[0mi\u001b[0m\u001b[1;33m+\u001b[0m\u001b[1;36m1\u001b[0m\u001b[1;33m:\u001b[0m\u001b[1;36m3\u001b[0m\u001b[1;33m*\u001b[0m\u001b[0mi\u001b[0m\u001b[1;33m+\u001b[0m\u001b[1;36m4\u001b[0m\u001b[1;33m]\u001b[0m \u001b[1;33m=\u001b[0m \u001b[1;33m[\u001b[0m\u001b[0mmin\u001b[0m\u001b[1;33m(\u001b[0m\u001b[0mmm\u001b[0m\u001b[1;33m)\u001b[0m\u001b[1;33m,\u001b[0m \u001b[0mmax\u001b[0m\u001b[1;33m(\u001b[0m\u001b[0mmm\u001b[0m\u001b[1;33m)\u001b[0m\u001b[1;33m,\u001b[0m \u001b[0mmean\u001b[0m\u001b[1;33m(\u001b[0m\u001b[0mmm\u001b[0m\u001b[1;33m)\u001b[0m\u001b[1;33m]\u001b[0m\u001b[1;33m\u001b[0m\u001b[1;33m\u001b[0m\u001b[0m\n\u001b[0;32m     64\u001b[0m                         \u001b[0mend\u001b[0m \u001b[1;33m=\u001b[0m \u001b[0mtime\u001b[0m\u001b[1;33m.\u001b[0m\u001b[0mprocess_time\u001b[0m\u001b[1;33m(\u001b[0m\u001b[1;33m)\u001b[0m   \u001b[1;31m# the stopwatch stops\u001b[0m\u001b[1;33m\u001b[0m\u001b[1;33m\u001b[0m\u001b[0m\n",
      "\u001b[1;32m~\\AppData\\Local\\Temp\\ipykernel_15748\\208229925.py\u001b[0m in \u001b[0;36m<listcomp>\u001b[1;34m(.0)\u001b[0m\n\u001b[0;32m     60\u001b[0m \u001b[1;33m\u001b[0m\u001b[0m\n\u001b[0;32m     61\u001b[0m                         \u001b[0mstart\u001b[0m \u001b[1;33m=\u001b[0m \u001b[0mtime\u001b[0m\u001b[1;33m.\u001b[0m\u001b[0mprocess_time\u001b[0m\u001b[1;33m(\u001b[0m\u001b[1;33m)\u001b[0m   \u001b[1;31m# the stopwatch starts\u001b[0m\u001b[1;33m\u001b[0m\u001b[1;33m\u001b[0m\u001b[0m\n\u001b[1;32m---> 62\u001b[1;33m                         \u001b[0mmm\u001b[0m \u001b[1;33m=\u001b[0m \u001b[1;33m[\u001b[0m\u001b[0mstochastic_gradient_descent\u001b[0m\u001b[1;33m(\u001b[0m\u001b[0ma1_0\u001b[0m\u001b[1;33m,\u001b[0m \u001b[0ma2_0\u001b[0m\u001b[1;33m,\u001b[0m \u001b[0mn\u001b[0m\u001b[1;33m,\u001b[0m\u001b[0mr0\u001b[0m\u001b[1;33m[\u001b[0m\u001b[0mi\u001b[0m\u001b[1;33m]\u001b[0m\u001b[1;33m,\u001b[0m \u001b[0mrho\u001b[0m\u001b[1;33m[\u001b[0m\u001b[0mj\u001b[0m\u001b[1;33m]\u001b[0m\u001b[1;33m,\u001b[0m \u001b[0msigma\u001b[0m\u001b[1;33m,\u001b[0m \u001b[0mN\u001b[0m\u001b[1;33m,\u001b[0m \u001b[0mM\u001b[0m\u001b[1;33m[\u001b[0m\u001b[0mp\u001b[0m\u001b[1;33m]\u001b[0m\u001b[1;33m,\u001b[0m \u001b[0mX0\u001b[0m\u001b[1;33m,\u001b[0m \u001b[0meps\u001b[0m\u001b[1;33m,\u001b[0m \u001b[0mh\u001b[0m\u001b[1;33m,\u001b[0m \u001b[0mg\u001b[0m\u001b[1;33m,\u001b[0m \u001b[0mgamma1\u001b[0m\u001b[1;33m,\u001b[0m \u001b[0mgamma2\u001b[0m\u001b[1;33m,\u001b[0m \u001b[0ml\u001b[0m\u001b[1;33m[\u001b[0m\u001b[0mp\u001b[0m\u001b[1;33m]\u001b[0m\u001b[1;33m)\u001b[0m \u001b[1;32mfor\u001b[0m \u001b[0mk\u001b[0m \u001b[1;32min\u001b[0m \u001b[0mrange\u001b[0m\u001b[1;33m(\u001b[0m\u001b[0mrepetition\u001b[0m\u001b[1;33m)\u001b[0m\u001b[1;33m]\u001b[0m\u001b[1;33m\u001b[0m\u001b[1;33m\u001b[0m\u001b[0m\n\u001b[0m\u001b[0;32m     63\u001b[0m                         \u001b[0mm\u001b[0m\u001b[1;33m[\u001b[0m\u001b[0mj\u001b[0m\u001b[1;33m,\u001b[0m\u001b[1;36m3\u001b[0m\u001b[1;33m*\u001b[0m\u001b[0mi\u001b[0m\u001b[1;33m+\u001b[0m\u001b[1;36m1\u001b[0m\u001b[1;33m:\u001b[0m\u001b[1;36m3\u001b[0m\u001b[1;33m*\u001b[0m\u001b[0mi\u001b[0m\u001b[1;33m+\u001b[0m\u001b[1;36m4\u001b[0m\u001b[1;33m]\u001b[0m \u001b[1;33m=\u001b[0m \u001b[1;33m[\u001b[0m\u001b[0mmin\u001b[0m\u001b[1;33m(\u001b[0m\u001b[0mmm\u001b[0m\u001b[1;33m)\u001b[0m\u001b[1;33m,\u001b[0m \u001b[0mmax\u001b[0m\u001b[1;33m(\u001b[0m\u001b[0mmm\u001b[0m\u001b[1;33m)\u001b[0m\u001b[1;33m,\u001b[0m \u001b[0mmean\u001b[0m\u001b[1;33m(\u001b[0m\u001b[0mmm\u001b[0m\u001b[1;33m)\u001b[0m\u001b[1;33m]\u001b[0m\u001b[1;33m\u001b[0m\u001b[1;33m\u001b[0m\u001b[0m\n\u001b[0;32m     64\u001b[0m                         \u001b[0mend\u001b[0m \u001b[1;33m=\u001b[0m \u001b[0mtime\u001b[0m\u001b[1;33m.\u001b[0m\u001b[0mprocess_time\u001b[0m\u001b[1;33m(\u001b[0m\u001b[1;33m)\u001b[0m   \u001b[1;31m# the stopwatch stops\u001b[0m\u001b[1;33m\u001b[0m\u001b[1;33m\u001b[0m\u001b[0m\n",
      "\u001b[1;32m~\\AppData\\Local\\Temp\\ipykernel_15748\\1009788212.py\u001b[0m in \u001b[0;36mstochastic_gradient_descent\u001b[1;34m(a1_0, a2_0, n, r0, rho, sigma, N, M, X0, eps, h, g, gamma1, gamma2, l)\u001b[0m\n\u001b[0;32m     14\u001b[0m         \u001b[0meta\u001b[0m \u001b[1;33m=\u001b[0m \u001b[0mr0\u001b[0m \u001b[1;33m/\u001b[0m \u001b[1;33m(\u001b[0m\u001b[1;33m(\u001b[0m\u001b[0mm\u001b[0m \u001b[1;33m+\u001b[0m \u001b[1;36m1\u001b[0m\u001b[1;33m)\u001b[0m \u001b[1;33m**\u001b[0m \u001b[0mrho\u001b[0m\u001b[1;33m)\u001b[0m\u001b[1;33m\u001b[0m\u001b[1;33m\u001b[0m\u001b[0m\n\u001b[0;32m     15\u001b[0m \u001b[1;33m\u001b[0m\u001b[0m\n\u001b[1;32m---> 16\u001b[1;33m         \u001b[0mZ\u001b[0m\u001b[1;33m,\u001b[0m \u001b[0mZtilde\u001b[0m\u001b[1;33m,\u001b[0m \u001b[0mY1tilde\u001b[0m\u001b[1;33m,\u001b[0m \u001b[0mY2tilde\u001b[0m \u001b[1;33m=\u001b[0m \u001b[0meuler\u001b[0m\u001b[1;33m(\u001b[0m\u001b[0ma1\u001b[0m\u001b[1;33m,\u001b[0m \u001b[0ma2\u001b[0m\u001b[1;33m,\u001b[0m \u001b[0msigma\u001b[0m\u001b[1;33m,\u001b[0m \u001b[0mn\u001b[0m\u001b[1;33m,\u001b[0m \u001b[0mN\u001b[0m\u001b[1;33m,\u001b[0m \u001b[0mM\u001b[0m\u001b[1;33m,\u001b[0m \u001b[0mX0\u001b[0m\u001b[1;33m,\u001b[0m \u001b[0mh\u001b[0m\u001b[1;33m,\u001b[0m \u001b[0mg\u001b[0m\u001b[1;33m)\u001b[0m\u001b[1;33m\u001b[0m\u001b[1;33m\u001b[0m\u001b[0m\n\u001b[0m\u001b[0;32m     17\u001b[0m \u001b[1;33m\u001b[0m\u001b[0m\n\u001b[0;32m     18\u001b[0m \u001b[1;33m\u001b[0m\u001b[0m\n",
      "\u001b[1;32m~\\AppData\\Local\\Temp\\ipykernel_15748\\1619155051.py\u001b[0m in \u001b[0;36meuler\u001b[1;34m(a1, a2, sigma, n, N, M, Z0, h, g)\u001b[0m\n\u001b[0;32m     15\u001b[0m \u001b[1;33m\u001b[0m\u001b[0m\n\u001b[0;32m     16\u001b[0m         \u001b[0mY1\u001b[0m\u001b[1;33m[\u001b[0m\u001b[0mi\u001b[0m\u001b[1;33m+\u001b[0m\u001b[1;36m1\u001b[0m\u001b[1;33m]\u001b[0m \u001b[1;33m=\u001b[0m \u001b[0mY1\u001b[0m\u001b[1;33m[\u001b[0m\u001b[0mi\u001b[0m\u001b[1;33m]\u001b[0m \u001b[1;33m+\u001b[0m \u001b[1;33m(\u001b[0m\u001b[1;33m(\u001b[0m\u001b[0mg\u001b[0m\u001b[1;33m[\u001b[0m\u001b[1;33m:\u001b[0m\u001b[1;33m,\u001b[0m\u001b[0mi\u001b[0m\u001b[1;33m]\u001b[0m \u001b[1;33m*\u001b[0m \u001b[0mnp\u001b[0m\u001b[1;33m.\u001b[0m\u001b[0mones\u001b[0m\u001b[1;33m(\u001b[0m\u001b[1;33m(\u001b[0m\u001b[0mM\u001b[0m\u001b[1;33m,\u001b[0m \u001b[1;36m1\u001b[0m\u001b[1;33m)\u001b[0m\u001b[1;33m)\u001b[0m\u001b[1;33m)\u001b[0m\u001b[1;33m.\u001b[0m\u001b[0mtranspose\u001b[0m\u001b[1;33m(\u001b[0m\u001b[1;33m)\u001b[0m \u001b[1;33m*\u001b[0m \u001b[0mnp\u001b[0m\u001b[1;33m.\u001b[0m\u001b[0mcos\u001b[0m\u001b[1;33m(\u001b[0m\u001b[0mZ\u001b[0m\u001b[1;33m[\u001b[0m\u001b[0mi\u001b[0m\u001b[1;33m]\u001b[0m\u001b[1;33m)\u001b[0m \u001b[1;33m-\u001b[0m \u001b[0mY1\u001b[0m\u001b[1;33m[\u001b[0m\u001b[0mi\u001b[0m\u001b[1;33m]\u001b[0m \u001b[1;33m*\u001b[0m \u001b[1;33m(\u001b[0m\u001b[0mc1\u001b[0m \u001b[1;33m*\u001b[0m \u001b[0mnp\u001b[0m\u001b[1;33m.\u001b[0m\u001b[0msin\u001b[0m\u001b[1;33m(\u001b[0m\u001b[0mZ\u001b[0m\u001b[1;33m[\u001b[0m\u001b[0mi\u001b[0m\u001b[1;33m]\u001b[0m\u001b[1;33m)\u001b[0m \u001b[1;33m+\u001b[0m \u001b[0mc2\u001b[0m \u001b[1;33m*\u001b[0m \u001b[0mnp\u001b[0m\u001b[1;33m.\u001b[0m\u001b[0mcos\u001b[0m\u001b[1;33m(\u001b[0m\u001b[0mZ\u001b[0m\u001b[1;33m[\u001b[0m\u001b[0mi\u001b[0m\u001b[1;33m]\u001b[0m\u001b[1;33m)\u001b[0m\u001b[1;33m)\u001b[0m\u001b[1;33m)\u001b[0m \u001b[1;33m*\u001b[0m \u001b[0mh\u001b[0m\u001b[1;33m\u001b[0m\u001b[1;33m\u001b[0m\u001b[0m\n\u001b[1;32m---> 17\u001b[1;33m         \u001b[0mY2\u001b[0m\u001b[1;33m[\u001b[0m\u001b[0mi\u001b[0m\u001b[1;33m+\u001b[0m\u001b[1;36m1\u001b[0m\u001b[1;33m]\u001b[0m \u001b[1;33m=\u001b[0m \u001b[0mY2\u001b[0m\u001b[1;33m[\u001b[0m\u001b[0mi\u001b[0m\u001b[1;33m]\u001b[0m \u001b[1;33m+\u001b[0m \u001b[1;33m(\u001b[0m\u001b[1;33m(\u001b[0m\u001b[1;33m-\u001b[0m\u001b[0mg\u001b[0m\u001b[1;33m[\u001b[0m\u001b[1;33m:\u001b[0m\u001b[1;33m,\u001b[0m\u001b[0mi\u001b[0m\u001b[1;33m]\u001b[0m \u001b[1;33m*\u001b[0m \u001b[0mnp\u001b[0m\u001b[1;33m.\u001b[0m\u001b[0mones\u001b[0m\u001b[1;33m(\u001b[0m\u001b[1;33m(\u001b[0m\u001b[0mM\u001b[0m\u001b[1;33m,\u001b[0m \u001b[1;36m1\u001b[0m\u001b[1;33m)\u001b[0m\u001b[1;33m)\u001b[0m\u001b[1;33m)\u001b[0m\u001b[1;33m.\u001b[0m\u001b[0mtranspose\u001b[0m\u001b[1;33m(\u001b[0m\u001b[1;33m)\u001b[0m \u001b[1;33m*\u001b[0m \u001b[0mnp\u001b[0m\u001b[1;33m.\u001b[0m\u001b[0msin\u001b[0m\u001b[1;33m(\u001b[0m\u001b[0mZ\u001b[0m\u001b[1;33m[\u001b[0m\u001b[0mi\u001b[0m\u001b[1;33m]\u001b[0m\u001b[1;33m)\u001b[0m \u001b[1;33m-\u001b[0m \u001b[0mY2\u001b[0m\u001b[1;33m[\u001b[0m\u001b[0mi\u001b[0m\u001b[1;33m]\u001b[0m \u001b[1;33m*\u001b[0m \u001b[1;33m(\u001b[0m\u001b[0mc1\u001b[0m \u001b[1;33m*\u001b[0m \u001b[0mnp\u001b[0m\u001b[1;33m.\u001b[0m\u001b[0msin\u001b[0m\u001b[1;33m(\u001b[0m\u001b[0mZ\u001b[0m\u001b[1;33m[\u001b[0m\u001b[0mi\u001b[0m\u001b[1;33m]\u001b[0m\u001b[1;33m)\u001b[0m \u001b[1;33m+\u001b[0m \u001b[0mc2\u001b[0m \u001b[1;33m*\u001b[0m \u001b[0mnp\u001b[0m\u001b[1;33m.\u001b[0m\u001b[0mcos\u001b[0m\u001b[1;33m(\u001b[0m\u001b[0mZ\u001b[0m\u001b[1;33m[\u001b[0m\u001b[0mi\u001b[0m\u001b[1;33m]\u001b[0m\u001b[1;33m)\u001b[0m\u001b[1;33m)\u001b[0m\u001b[1;33m)\u001b[0m \u001b[1;33m*\u001b[0m \u001b[0mh\u001b[0m\u001b[1;33m\u001b[0m\u001b[1;33m\u001b[0m\u001b[0m\n\u001b[0m\u001b[0;32m     18\u001b[0m \u001b[1;33m\u001b[0m\u001b[0m\n\u001b[0;32m     19\u001b[0m         \u001b[0mZ\u001b[0m\u001b[1;33m[\u001b[0m\u001b[0mi\u001b[0m\u001b[1;33m+\u001b[0m\u001b[1;36m1\u001b[0m\u001b[1;33m]\u001b[0m \u001b[1;33m=\u001b[0m \u001b[0mZ\u001b[0m\u001b[1;33m[\u001b[0m\u001b[0mi\u001b[0m\u001b[1;33m]\u001b[0m \u001b[1;33m+\u001b[0m \u001b[1;33m(\u001b[0m\u001b[0mc1\u001b[0m \u001b[1;33m*\u001b[0m \u001b[0mnp\u001b[0m\u001b[1;33m.\u001b[0m\u001b[0mcos\u001b[0m\u001b[1;33m(\u001b[0m\u001b[0mZ\u001b[0m\u001b[1;33m[\u001b[0m\u001b[0mi\u001b[0m\u001b[1;33m]\u001b[0m\u001b[1;33m)\u001b[0m \u001b[1;33m-\u001b[0m \u001b[0mc2\u001b[0m \u001b[1;33m*\u001b[0m \u001b[0mnp\u001b[0m\u001b[1;33m.\u001b[0m\u001b[0msin\u001b[0m\u001b[1;33m(\u001b[0m\u001b[0mZ\u001b[0m\u001b[1;33m[\u001b[0m\u001b[0mi\u001b[0m\u001b[1;33m]\u001b[0m\u001b[1;33m)\u001b[0m\u001b[1;33m)\u001b[0m \u001b[1;33m*\u001b[0m \u001b[0mh\u001b[0m \u001b[1;33m+\u001b[0m \u001b[0msigma\u001b[0m \u001b[1;33m*\u001b[0m \u001b[0mmath\u001b[0m\u001b[1;33m.\u001b[0m\u001b[0msqrt\u001b[0m\u001b[1;33m(\u001b[0m\u001b[0mh\u001b[0m\u001b[1;33m)\u001b[0m \u001b[1;33m*\u001b[0m \u001b[0mW\u001b[0m\u001b[1;33m[\u001b[0m\u001b[1;36m1\u001b[0m\u001b[1;33m]\u001b[0m\u001b[1;33m\u001b[0m\u001b[1;33m\u001b[0m\u001b[0m\n",
      "\u001b[1;31mKeyboardInterrupt\u001b[0m: "
     ]
    }
   ],
   "source": [
    "if __name__ == \"__main__\":\n",
    "    \n",
    "    # variable parameters\n",
    "    \n",
    "    T = 2   # 0.5, 1, 2, 4\n",
    "    nnn = [3, 4, 5, 6]  \n",
    "    M = [1000]# [1, 10, 100, 1000, 10000]   # remember that for the first three the stopping criteria occurs every 10 iterations, and for the last two at each step (see vector l)\n",
    "    N = 200   # 50, 100, 200, 400\n",
    "    N1 = 200   # 100, 100, 200, 400\n",
    "    K = 20\n",
    "\n",
    "    \n",
    "    # fixed parameters\n",
    "    \n",
    "    sigma = 0.5\n",
    "    X0 = 0.5\n",
    "    M1 = 1000000\n",
    "    \n",
    "    h = T / N  \n",
    "    r0 = [1, 5, 10]   # [1, 5] for T = 2 and [1] for T = 4\n",
    "    rho = [0.6, 0.7, 0.8, 0.9]\n",
    "    eps = 0.01\n",
    "    l = [10, 10, 10, 1, 1]\n",
    "    repetition = 10 \n",
    "    tipo = 'lagrange'\n",
    "\n",
    "        \n",
    "    # Euler - Monte Carlo\n",
    "    \n",
    "    start = time.process_time()   # the stopwatch starts\n",
    "    X, Gamma1, Gamma2 = monte_carlo(sigma, T, N1, M1, X0, K)\n",
    "    end = time.process_time()   # the stopwatch stops\n",
    "    \n",
    "    print(\"Euler - Monte Carlo execution time: \", end - start)\n",
    "    print(\" \")\n",
    "    \n",
    "    gamma1 = np.array(Gamma1)\n",
    "    gamma2 = np.array(Gamma2)\n",
    "    \n",
    "    # gamma1 = np.array([Gamma1[i] for i in range(0, len(Gamma1), int(N1/N))])   # we use them when N=50 so as to generate the benchmark solution over 100 steps and only consider it over 50, instead of considering the coarser solution over 50 steps \n",
    "    # gamma2 = np.array([Gamma2[i] for i in range(0, len(Gamma2), int(N1/N))])  \n",
    "\n",
    "    \n",
    "    for n in nnn:\n",
    "        \n",
    "        # Gradient Descent\n",
    "        \n",
    "        a1_0, a2_0, g = base(T, N, n, X0, tipo)\n",
    "        m = np.zeros((len(rho), len(r0)*3+1))\n",
    "        m[:,0] = rho\n",
    "        \n",
    "        with open(\"times n = \"+str(n)+\".txt\", \"w\") as f:\n",
    "            \n",
    "            for p in range(len(M)):\n",
    "                f.write(\"Number of iterations to achieve convergence withn M = \"+str(M[p])+\" :\")\n",
    "                f.write(\"\\n\")\n",
    "                f.write(\"\\n\")\n",
    "\n",
    "                for i in range(len(r0)):\n",
    "                    for j in range(len(rho)):\n",
    "\n",
    "                        start = time.process_time()   # the stopwatch starts\n",
    "                        mm = [stochastic_gradient_descent(a1_0, a2_0, n,r0[i], rho[j], sigma, N, M[p], X0, eps, h, g, gamma1, gamma2, l[p]) for k in range(repetition)] \n",
    "                        m[j,3*i+1:3*i+4] = [min(mm), max(mm), mean(mm)]\n",
    "                        end = time.process_time()   # the stopwatch stops \n",
    "\n",
    "                        f.write(\"Execution time with r0=\"+str(r0[i])+\" and rho=\"+str(rho[j])+\": \"+ str((end - start)/repetition))\n",
    "                        f.write(\"\\n\")\n",
    "\n",
    "                f.write(\"\\n\")\n",
    "                f.write(tabulate(m[:,:], headers=[\" rho \\ r0\", \"1 (min)\", \"1 (max)\", \"1 (average)\", \"5 (min)\", \"5 (max)\", \"5 (average)\", \"10 (min)\", \"10 (max)\", \"10 (average)\"]))\n",
    "                f.write(\"\\n\")\n",
    "                f.write(\"\\n\")\n",
    "        \n",
    "        print(\"done n = \"+str(n))\n",
    "                "
   ]
  },
  {
   "cell_type": "code",
   "execution_count": null,
   "id": "f7c408ce",
   "metadata": {},
   "outputs": [],
   "source": []
  },
  {
   "cell_type": "markdown",
   "id": "971d2bb1",
   "metadata": {},
   "source": [
    "### Draft function"
   ]
  },
  {
   "cell_type": "code",
   "execution_count": null,
   "id": "3f1f4dcd",
   "metadata": {},
   "outputs": [],
   "source": [
    "# def alpha(k, x):\n",
    "#    return math.pi**(1/4) * (1/2)**(k/2) * ( (x**k)/(math.factorial(k)**(1/2)) ) * np.exp(-(x**2)/4) \n",
    "\n",
    "# def alpha1(k, x):\n",
    "#    return - ( math.pi**(1/4) * (1/2)**(k/2+1) * np.exp(-(x**2)/4) * x**(k-1) * (x^2-2*k) ) / ( math.factorial(k)**(1/2) )\n",
    "\n",
    "# def H(n, x):\n",
    "#    return (  ( ( 2**n * math.factorial(n) * math.sqrt(math.pi) )**(-(1/2)) ) \\\n",
    "#            * math.factorial(n) \\\n",
    "#            * sum( [ ( ((-1)**m) * (x**(n-2*m)) ) / ( math.factorial(m) * math.factorial(n-2*m) * (2**m) ) for m in range(math.floor(n/2)+1) ] )  )\n",
    "\n",
    "# def H(n, x):\n",
    "#     if n % 2 == 0:\n",
    "#         return math.factorial(n) * sum( [((-1)**(n/2-l)) / (math.factorial(2*l)*math.factorial(n//2 - l)) * ((2*x)**(2*l)) for l in range(n//2 + 1)] )\n",
    "#     else:\n",
    "#         return math.factorial(n) * sum( [((-1)**((n-1)/2-l)) / (math.factorial(2*l + 1)*math.factorial((n-1)//2 - l)) * ((2*x)**(2*l+1)) for l in range((n-1)//2 + 1)] )\n",
    "\n",
    "# def c(k):\n",
    "#     return ( 2 ** k * math.factorial(k) * math.sqrt(math.pi) )**(-(1/2))\n",
    "\n",
    "# def monte_carlo(sigma, T, N, M, K):\n",
    "#     h = T / N\n",
    "#    X = np.random.normal(0, 1, M)\n",
    "#    gamma = np.zeros((K+1, N1+1))\n",
    "#    gamma[:,0] = [mean( H(k, X) * np.exp(-((X**2)/2)) ) for k in range(K+1)]\n",
    "#    \n",
    "#    for i in range(N):\n",
    "#        W = np.random.normal(0, 1, M) \n",
    "#        X = X + sum( [gamma[k,i] * alpha(k,X) for k in range(K+1)] ) * h + sigma * math.sqrt(h) * W\n",
    "#        gamma[:,i+1] = [mean( H(k, X) * np.exp(-((X**2)/2)) ) for k in range(K+1)]\n",
    "#    \n",
    "#    return X, gamma "
   ]
  }
 ],
 "metadata": {
  "kernelspec": {
   "display_name": "Python 3 (ipykernel)",
   "language": "python",
   "name": "python3"
  },
  "language_info": {
   "codemirror_mode": {
    "name": "ipython",
    "version": 3
   },
   "file_extension": ".py",
   "mimetype": "text/x-python",
   "name": "python",
   "nbconvert_exporter": "python",
   "pygments_lexer": "ipython3",
   "version": "3.9.13"
  }
 },
 "nbformat": 4,
 "nbformat_minor": 5
}
