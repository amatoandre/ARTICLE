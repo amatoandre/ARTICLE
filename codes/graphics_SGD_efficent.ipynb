{
 "cells": [
  {
   "cell_type": "markdown",
   "id": "472ff886",
   "metadata": {},
   "source": [
    "# Graphics for SGD with Mini Batch for Kuramoto-Shinomoto-Sakaguchi MV-SDE"
   ]
  },
  {
   "cell_type": "markdown",
   "id": "dd98ef24",
   "metadata": {},
   "source": [
    "First of all, we import all the packages needed to use the mathematical functions of python."
   ]
  },
  {
   "cell_type": "code",
   "execution_count": null,
   "id": "e25496e9",
   "metadata": {},
   "outputs": [],
   "source": [
    "import math\n",
    "import numpy as np\n",
    "import matplotlib.pyplot as plt\n",
    "import time\n",
    "from numpy import linalg as LA\n",
    "from numpy import mean\n",
    "from tabulate import tabulate"
   ]
  },
  {
   "cell_type": "markdown",
   "id": "6967e6a0",
   "metadata": {},
   "source": [
    "Now we write the MV-SDE of the Kuramoto-Shinomoto-Sakaguchi model:\n",
    "\n",
    "$$ dX_t = \\left( \\mathbb{E}[sen(X_t)] cos(X_t) - \\mathbb{E}[cos(X_t)] sen(X_t) \\right) dt + \\sigma dW_t , \\ \\ \\ X_0=x_0. $$"
   ]
  },
  {
   "cell_type": "markdown",
   "id": "18d08153",
   "metadata": {},
   "source": [
    "With:\n",
    "* K = 3, d = 1 e q = 1,\n",
    "* $\\varphi(x)=(1, senx, cosx)$, \n",
    "* $\\alpha(t,x)=(0, cosx, -senx)^T$, \n",
    "* $\\beta(t,x)=(\\sigma, 0 , 0)^T$."
   ]
  },
  {
   "cell_type": "markdown",
   "id": "c06b2833",
   "metadata": {},
   "source": [
    "## Euler - Monte Carlo Method "
   ]
  },
  {
   "cell_type": "code",
   "execution_count": 2,
   "id": "8c7bcc82",
   "metadata": {},
   "outputs": [],
   "source": [
    "def monte_carlo(sigma, T, N, M, X0):\n",
    "    h = T / N\n",
    "    X = X0 * np.ones(M)\n",
    "    gamma1 = np.zeros(N+1)\n",
    "    gamma2 = np.zeros(N+1)\n",
    "    gamma1[0] = mean(np.sin(X))\n",
    "    gamma2[0] = mean(np.cos(X))\n",
    "    \n",
    "    for i in range(N):\n",
    "        W = np.random.normal(0, 1, M) \n",
    "        X = X + (gamma1[i] * np.cos(X) - gamma2[i] * np.sin(X)) * h + sigma * math.sqrt(h) * W\n",
    "        gamma1[i+1] = mean(np.sin(X))\n",
    "        gamma2[i+1] = mean(np.cos(X))\n",
    "    \n",
    "    return X, gamma1, gamma2 "
   ]
  },
  {
   "cell_type": "markdown",
   "id": "7057b80b",
   "metadata": {},
   "source": [
    "## Gradient Descend Method"
   ]
  },
  {
   "cell_type": "markdown",
   "id": "d1ff9fa5",
   "metadata": {},
   "source": [
    "### Euler for the simulation of $Z(\\xi , W)$ and $\\left( Z^a(\\tilde{\\xi} , \\tilde{W}), \\partial_{a_{h,j}} Z^a(\\tilde{\\xi} , \\tilde{W}) \\right)$"
   ]
  },
  {
   "cell_type": "markdown",
   "id": "e7af779d",
   "metadata": {},
   "source": [
    "We define the two functions that allow us to simulate $Z(\\xi , W)$ and $\\left( Z^a(\\tilde{\\xi} , \\tilde{W}), \\partial_{a_{h,j}} Z^a(\\tilde{\\xi} , \\tilde{W}) \\right)$, i.e. the solutions of the system given by the following differential equations:\n",
    "\n",
    "$$ dZ_t = \\textbf{h} \\left((\\mathcal{L}a)(t)\\right) \\left( \\alpha(t, Z_t)dt + \\beta(t, Z_t)dW_t\\right), \\ \\ \\ Z_0 = \\xi.$$\n",
    "\n",
    "$$ dY^{j,k}_t = g_j(t) \\nabla \\textbf{h}_k \\left((\\mathcal{L}a)(t)\\right) \\left( \\alpha(t, Z_t)dt + \\beta(t, Z_t)dW_t\\right) + \\sum_{i=0}^d Y^{j,k,i}_t  \\textbf{h} \\left((\\mathcal{L}a)(t)\\right) \\left( \\partial_{z_i}\\alpha(t, Z_t)dt + \\partial_{z_i}\\beta(t, Z_t)dW_t\\right), \\ \\ \\ \\ Y^{j,k}_0 = 0,$$\n",
    "\n",
    "for $j = 0, \\cdots , n$ and $k = 1, \\cdots, K$. "
   ]
  },
  {
   "cell_type": "markdown",
   "id": "2b13a353",
   "metadata": {},
   "source": [
    "This function is used to create the base of the polynomial space. It takes in input the dimension $n$, the time $t$ in which the base vectors are to be calculated and the base type chosen. Returns a $n+1$ dimensional vector representing the base items calculated in $t$."
   ]
  },
  {
   "cell_type": "markdown",
   "id": "87335224",
   "metadata": {},
   "source": [
    "* canonical base:   $g_i(t):= t^i$ with equidistant knots;\n",
    "* Lagrange's base: $g_i(t):=\\prod_{j \\leq n \\ and  \\ j\\neq n} \\left( \\frac{t - t_j}{t_i - t_j} \\right) $ with Chebyshev's knots: $\\frac{a+b}{2} + \\frac{b-a}{2} cos \\left( \\frac{2k + 1}{2n +2} \\pi \\right)$"
   ]
  },
  {
   "cell_type": "code",
   "execution_count": 3,
   "id": "ded2911a",
   "metadata": {},
   "outputs": [],
   "source": [
    "def base(T, N, n, X0, tipo):\n",
    "    g = np.ones(n+1)\n",
    "    cc = np.linspace(0, T, N+1)\n",
    "    \n",
    "    if tipo == 'canonical':\n",
    "        g = np.array([ cc ** i for i in range(n+1)]) \n",
    "        \n",
    "        a1_0 = np.sin(X0) * g[:,0]\n",
    "        a2_0 = np.cos(X0) * g[:,0]\n",
    "        \n",
    "        return a1_0, a2_0, g\n",
    "    \n",
    "    elif tipo == 'lagrange':\n",
    "        l = [(0 + T)/2 + (T - 0)/2 * np.cos(((2 * i + 1)/ (2 * n + 2)) * math.pi) for i in range(n+1)]\n",
    "        \n",
    "        g = np.array([math.prod([((cc - l[j]) / (l[i] - l[j])) for j in range(n+1) if j!=i]) for i in range(n+1)])\n",
    "        \n",
    "        a1_0 = np.sin(X0) * np.ones(n+1) \n",
    "        a2_0 = np.cos(X0) * np.ones(n+1) \n",
    "\n",
    "        return a1_0, a2_0, g \n",
    "        \n",
    "    \n",
    "    else:\n",
    "        return 'err'"
   ]
  },
  {
   "cell_type": "markdown",
   "id": "2808e4bc",
   "metadata": {},
   "source": [
    "In this simplified algorithm the two maps $\\textbf{h}$ and $ H $ are respectively the identity function and the null function. Considering the values of the coefficient functions for the MV-SDE of the Kuramoto-Shninomoto-Sakaguchi model, we have that the equations are:\n",
    "\n",
    "$$ dZ_t = \\left( (\\mathcal{L}a)_1(t) cos(Z_t) - (\\mathcal{L}a)_2(t) sen(Z_t) \\right) dt + \\sigma dW_t, \\ \\ \\ Z_0 = X_0. $$\n",
    "\n",
    "$$ dY^{j,1}_t = \\left( g_j(t) cos(Z_t) - Y^{j,1}_t \\left( (\\mathcal{L}a)_1(t)sen(Z_t) + (\\mathcal{L}a)_2(t)cos(Z_t)\\right) \\right)dt, \\ \\ \\ Y^{j,1}_0 = 0,$$\n",
    "\n",
    "$$ dY^{j,2}_t = \\left( -g_j(t) sen(Z_t) - Y^{j,2}_t \\left( (\\mathcal{L}a)_1(t)sen(Z_t) + (\\mathcal{L}a)_2(t)cos(Z_t)\\right) \\right)dt, \\ \\ \\ Y^{j,2}_0 = 0,$$\n",
    "for $j = 0, \\cdots , n$."
   ]
  },
  {
   "cell_type": "code",
   "execution_count": 4,
   "id": "ca80ac0b",
   "metadata": {},
   "outputs": [],
   "source": [
    "def euler(a1, a2, sigma, n, N, M, Z0, h, g):\n",
    "    \n",
    "    X = Z0 * np.ones((N+1, M))\n",
    "    Z = Z0 * np.ones((N+1, M))\n",
    "    Y1 = np.zeros((N+1, n+1, M))\n",
    "    Y2 = np.zeros((N+1, n+1, M))\n",
    "    \n",
    "    for i in range(N):\n",
    "        c1 = np.dot(a1, g[:,i])\n",
    "        c2 = np.dot(a2, g[:,i])\n",
    "        \n",
    "        W = np.random.normal(0, 1, (2, M)) \n",
    "    \n",
    "        X[i+1] = X[i] + (c1 * np.cos(X[i]) - c2 * np.sin(X[i])) * h + sigma * math.sqrt(h) * W[0] \n",
    "\n",
    "        Y1[i+1] = Y1[i] + ((g[:,i] * np.ones((M, 1))).transpose() * np.cos(Z[i]) - Y1[i] * (c1 * np.sin(Z[i]) + c2 * np.cos(Z[i]))) * h\n",
    "        Y2[i+1] = Y2[i] + ((-g[:,i] * np.ones((M, 1))).transpose() * np.sin(Z[i]) - Y2[i] * (c1 * np.sin(Z[i]) + c2 * np.cos(Z[i]))) * h\n",
    "\n",
    "        Z[i+1] = Z[i] + (c1 * np.cos(Z[i]) - c2 * np.sin(Z[i])) * h + sigma * math.sqrt(h) * W[1]\n",
    "        \n",
    "    \n",
    "    return X, Z, Y1, Y2"
   ]
  },
  {
   "cell_type": "markdown",
   "id": "ad7bac12",
   "metadata": {},
   "source": [
    "### Descent Method"
   ]
  },
  {
   "cell_type": "markdown",
   "id": "4da5da8f",
   "metadata": {},
   "source": [
    "In this section are the two most important functions of the code. The first is used to calculate the realisation of the gradient for stochastic descent, i.e. the function $v$. In general, the writing of $v$, component by component, is as follows:\n",
    "\n",
    "$$v_{j,k}(a; \\xi, W; \\tilde{\\xi}, \\tilde{W}) = 2 \\int_0^T \\langle \\varphi (Z^a_t(\\xi,W)) - \\textbf{h} ((\\mathcal{L}a)(t)), \\nabla_x \\varphi (Z^a_t(\\tilde{\\xi}, \\tilde{W})) Y_t^{a;j,k}(\\tilde{\\xi}, \\tilde{W}) - \\partial_{a_{j,k}}\\textbf{h}((\\mathcal{L}a)(t))\\rangle dt, $$ \n",
    "with $j = 0, \\cdots , n$ e $k = 1, \\cdots, K$."
   ]
  },
  {
   "cell_type": "markdown",
   "id": "0de3e8a5",
   "metadata": {},
   "source": [
    "As in the previous cases, we write this e quation in the specific case of our algorithm. In particular, we have divided the time interval into N steps and therefore approximate the integral with a sum.\n",
    "\n",
    "$$v_{j,1}(a; W; \\tilde{W}) = 2 h \\sum_{t=0}^{N} \\left[ \\left( sen(Z^a_t(W)) - (\\mathcal{L}a)_1(t) \\right) \\cdot \\left( cos(Z^a_t(\\tilde{W})) Y_t^{a;j,1}(\\tilde{W}) - g_j(t) \\right) + \\left( cos(Z^a_t(W)) - (\\mathcal{L}a)_2(t) \\right) \\cdot \\left( -sen(Z^a_t(\\tilde{W})) Y_t^{a;j,1}(\\tilde{W}) \\right)\\right], $$ \n",
    "\n",
    "$$v_{j,2}(a; W; \\tilde{W}) = 2 h \\sum_{t=0}^{N} \\left[ \\left( sen(Z^a_t(W)) - (\\mathcal{L}a)_1(t) \\right) \\cdot \\left( cos(Z^a_t(\\tilde{W})) Y_t^{a;j,2}(\\tilde{W}) \\right) + \\left( cos(Z^a_t(W)) - (\\mathcal{L}a)_2(t) \\right) \\cdot \\left( -sen(Z^a_t(\\tilde{W})) Y_t^{a;j,2}(\\tilde{W}) - g_j(t) \\right)\\right], $$  \n",
    "with $j = 0, \\cdots , n$."
   ]
  },
  {
   "cell_type": "markdown",
   "id": "713e9a7f",
   "metadata": {},
   "source": [
    "We note that before returning the value $v$ this fuction averages it. This is in the case if $M>1$, where we exploit multiple simulations of the Brownian to get a better estimate of $v$.."
   ]
  },
  {
   "cell_type": "code",
   "execution_count": 5,
   "id": "f34117f9",
   "metadata": {},
   "outputs": [],
   "source": [
    "def stochastic_gradient_descent(a1_0, a2_0, n, r0, rho, sigma, N, M, X0, eps, h, g, gamma1, gamma2, l):\n",
    "    a1 = a1_0 \n",
    "    a2 = a2_0\n",
    "\n",
    "    norm1 = LA.norm(gamma1)\n",
    "    norm2 = LA.norm(gamma2)\n",
    "    \n",
    "    for m in range(50000):\n",
    "        \n",
    "        if (m % l == 0):\n",
    "            if ( ((LA.norm(np.dot(a1,g) - gamma1)/ norm1) < eps) and ((LA.norm(np.dot(a2,g) - gamma2)/ norm2) < eps) ):\n",
    "                break\n",
    "            \n",
    "        eta = r0 / ((m + 1) ** rho) \n",
    "        \n",
    "        Z, Ztilde, Y1tilde, Y2tilde = euler(a1, a2, sigma, n, N, M, X0, h, g)\n",
    "        \n",
    "        \n",
    "        v1 = np.zeros(n+1)\n",
    "        v2 = np.zeros(n+1)\n",
    "        \n",
    "        for j in range(n+1): \n",
    "\n",
    "            v1[j] = mean( 2 * h * sum( (np.sin(Z) - (np.dot(a1,g) * np.ones((M, 1))).transpose()) \\\n",
    "                                      * (np.cos(Ztilde) * Y1tilde[:,j] - (g[j,:] * np.ones((M, 1))).transpose()) \\\n",
    "                                      + (np.cos(Z) - (np.dot(a2,g) * np.ones((M, 1))).transpose()) \\\n",
    "                                      * (-np.sin(Ztilde) * Y1tilde[:,j]) ) ) \n",
    "        \n",
    "            v2[j] = mean( 2 * h * sum( (np.sin(Z) - (np.dot(a1,g) * np.ones((M, 1))).transpose()) \\\n",
    "                                      * (np.cos(Ztilde) * Y2tilde[:,j]) \\\n",
    "                                      + (np.cos(Z) - (np.dot(a2,g) * np.ones((M, 1))).transpose()) \\\n",
    "                                      * (-np.sin(Ztilde) * Y2tilde[:,j] - (g[j,:] * np.ones((M, 1))).transpose()) ) )\n",
    "        \n",
    "        a1 = a1 - eta * v1\n",
    "        a2 = a2 - eta * v2\n",
    "        \n",
    "    return a1, a2, m"
   ]
  },
  {
   "cell_type": "markdown",
   "id": "89e00b41",
   "metadata": {},
   "source": [
    "## Main and Graphics"
   ]
  },
  {
   "cell_type": "markdown",
   "id": "3c04ab48",
   "metadata": {},
   "source": [
    "Let us conclude by showing the main that calls the functions defined above. Let us recall what the values we will give as input to the functions we will call up correspond to:"
   ]
  },
  {
   "cell_type": "markdown",
   "id": "40527834",
   "metadata": {},
   "source": [
    "* T : final istant,\n",
    "* $M_1$ : number of simulation for the MC,\n",
    "* $N_1$ : time stes for the MC,\n",
    "* N : time steps for the SGD,\n",
    "* $\\sigma$: constant diffusion,\n",
    "* h : time step,\n",
    "* $X_0$ : initial data,\n",
    "* nnn : dimension of the polynomial space,\n",
    "* $a_0$ : initial value of the SGD method vector,\n",
    "* $r_0$ e $\\rho$: learning rates constants. Must hold that: $r_0 \\in (0, +\\infty)$ and $\\frac{1}{2} < \\rho \\leq 1$,\n",
    "* m: number of iteration for the SGD method,\n",
    "* M: Mini Batch between SGD and GD,\n",
    "* $\\epsilon$: 1% relative error tolerance,\n",
    "* repetition: number of identical simulations we run for each parameter combination."
   ]
  },
  {
   "cell_type": "code",
   "execution_count": 1,
   "id": "8e9e0122",
   "metadata": {
    "scrolled": true
   },
   "outputs": [
    {
     "ename": "NameError",
     "evalue": "name 'time' is not defined",
     "output_type": "error",
     "traceback": [
      "\u001b[1;31m---------------------------------------------------------------------------\u001b[0m",
      "\u001b[1;31mNameError\u001b[0m                                 Traceback (most recent call last)",
      "\u001b[1;32m~\\AppData\\Local\\Temp\\ipykernel_4140\\3332674965.py\u001b[0m in \u001b[0;36m<module>\u001b[1;34m\u001b[0m\n\u001b[0;32m     28\u001b[0m     \u001b[1;31m# Euler - Monte Carlo\u001b[0m\u001b[1;33m\u001b[0m\u001b[1;33m\u001b[0m\u001b[0m\n\u001b[0;32m     29\u001b[0m \u001b[1;33m\u001b[0m\u001b[0m\n\u001b[1;32m---> 30\u001b[1;33m     \u001b[0mstart\u001b[0m \u001b[1;33m=\u001b[0m \u001b[0mtime\u001b[0m\u001b[1;33m.\u001b[0m\u001b[0mprocess_time\u001b[0m\u001b[1;33m(\u001b[0m\u001b[1;33m)\u001b[0m   \u001b[1;31m# the stopwatch starts\u001b[0m\u001b[1;33m\u001b[0m\u001b[1;33m\u001b[0m\u001b[0m\n\u001b[0m\u001b[0;32m     31\u001b[0m     \u001b[0mX\u001b[0m\u001b[1;33m,\u001b[0m \u001b[0mGamma1\u001b[0m\u001b[1;33m,\u001b[0m \u001b[0mGamma2\u001b[0m \u001b[1;33m=\u001b[0m \u001b[0mmonte_carlo\u001b[0m\u001b[1;33m(\u001b[0m\u001b[0msigma\u001b[0m\u001b[1;33m,\u001b[0m \u001b[0mT\u001b[0m\u001b[1;33m,\u001b[0m \u001b[0mN1\u001b[0m\u001b[1;33m,\u001b[0m \u001b[0mM1\u001b[0m\u001b[1;33m,\u001b[0m \u001b[0mX0\u001b[0m\u001b[1;33m)\u001b[0m\u001b[1;33m\u001b[0m\u001b[1;33m\u001b[0m\u001b[0m\n\u001b[0;32m     32\u001b[0m     \u001b[0mend\u001b[0m \u001b[1;33m=\u001b[0m \u001b[0mtime\u001b[0m\u001b[1;33m.\u001b[0m\u001b[0mprocess_time\u001b[0m\u001b[1;33m(\u001b[0m\u001b[1;33m)\u001b[0m   \u001b[1;31m# the stopwatch stops\u001b[0m\u001b[1;33m\u001b[0m\u001b[1;33m\u001b[0m\u001b[0m\n",
      "\u001b[1;31mNameError\u001b[0m: name 'time' is not defined"
     ]
    }
   ],
   "source": [
    "if __name__ == \"__main__\":\n",
    "    \n",
    "    # variable parameters\n",
    "    \n",
    "    T = 2  # 0.5, 1, 2, 4\n",
    "    n = [3, 4, 5, 6]  \n",
    "    N1 = 200   # 100, 100, 200, 400\n",
    "    M = [1, 10, 100, 1000, 10000] \n",
    "    N = 200   # 50, 100, 200, 400\n",
    "    \n",
    "    r0 = [[1, 1, 1, 1, 1], [5, 5, 1, 1, 1], [5, 5, 1, 1, 1], [1, 1, 1, 5, 5]]\n",
    "    rho = [[0.7, 0.7, 0.7, 0.8, 0.7], [0.9, 0.9, 0.6, 0.7, 0.6], [0.9, 0.8, 0.7, 0.6, 0.6], [0.7, 0.6, 0.7, 0.9, 0.9]]\n",
    "    \n",
    "\n",
    "    \n",
    "    # fixed parameters\n",
    "    \n",
    "    sigma = 0.5\n",
    "    X0 = 0.5\n",
    "    M1 = 1000000\n",
    "    \n",
    "    h = T / N  \n",
    "    eps = 0.01\n",
    "    l = [10, 10, 10, 1, 1]\n",
    "    tipo = 'lagrange'\n",
    "\n",
    "        \n",
    "    # Euler - Monte Carlo\n",
    "    \n",
    "    start = time.process_time()   # the stopwatch starts\n",
    "    X, Gamma1, Gamma2 = monte_carlo(sigma, T, N1, M1, X0)\n",
    "    end = time.process_time()   # the stopwatch stops\n",
    "    \n",
    "    print(\"Euler - Monte Carlo exectuion time: \", end - start)\n",
    "    print(\" \")\n",
    "    \n",
    "    gamma1 = np.array(Gamma1)\n",
    "    gamma2 = np.array(Gamma2)\n",
    "    \n",
    "\n",
    "    \n",
    "    for r in range(len(n)):\n",
    "        \n",
    "        a1_0, a2_0, g = base(T, N, n[r], X0, tipo)\n",
    "        \n",
    "        # Graphics\n",
    "        \n",
    "        a1 = np.zeros((n[r]+1, len(M)))\n",
    "        a2 = np.zeros((n[r]+1, len(M)))\n",
    "        \n",
    "        with open(\"times graphics n = \"+str(n[r])+\".txt\", \"w\") as f:\n",
    "\n",
    "            for p in range(len(M)):\n",
    "        \n",
    "                start = time.process_time()   # the stopwatch starts\n",
    "                a1[:,p], a2[:,p], m = stochastic_gradient_descent(a1_0, a2_0, n[r], r0[r][p], rho[r][p], sigma, N, M[p], X0, eps, h, g, gamma1, gamma2, l[p])\n",
    "                end = time.process_time()   # the stopwatch stops\n",
    "\n",
    "                f.write(\"Execution time with M=\"+str(M[p])+\": \"+str(end - start))\n",
    "                f.write(\"\\n\")\n",
    "                f.write(\"Number of iterations to achieve convergence with M=\"+str(M[p])+\": \"+str(m))\n",
    "                f.write(\"\\n\")\n",
    "            \n",
    "            \n",
    "        # Sine\n",
    "        \n",
    "        fig = plt.figure() \n",
    "        plt.title(\"Comparison between MC and SGD\") \n",
    "        plt.xlabel(\"Time steps\") \n",
    "        plt.ylabel(\"Evolution of E[cos(X)]\") \n",
    "        # plt.ylim(0.4, 0.9)   # without we have that the graph is very zoomed in\n",
    "        for p in range(len(M)):\n",
    "            plt.plot(np.dot(a1[:,p], g), label='M='+str(M[p]))\n",
    "        plt.legend()\n",
    "        plt.savefig(\"n = \"+str(n[r])+\", sine congunit.pdf\")\n",
    "        \n",
    "        for p in range(len(M)):\n",
    "            fig = plt.figure() \n",
    "            plt.title(\"Comparison between MC and SGD with M = \"+str(M[p])+\" [r0 = \"+str(r0[r][p])+\", rho = \"+str(rho[r][p])+\"]\") \n",
    "            plt.xlabel(\"Time steps\") \n",
    "            plt.ylabel(\"Evolution of E[sin(X)]\") \n",
    "            plt.ylim(0.4, 0.6)   # without we have that the graph is very zoomed in\n",
    "            plt.plot(np.dot(a1[:,p], g), label='(La)1(t)')\n",
    "            plt.plot(gamma1, label='gamma1')\n",
    "            plt.legend()\n",
    "            plt.savefig(\"n = \"+str(n[r])+\", M = \"+str(M[p])+\" sine.pdf\")\n",
    "        \n",
    "        # Cosine\n",
    "        \n",
    "        fig = plt.figure() \n",
    "        plt.title(\"Comparison between MC and SGD\") \n",
    "        plt.xlabel(\"Time steps\") \n",
    "        plt.ylabel(\"Evolution of E[cos(X)]\") \n",
    "        # plt.ylim(0.4, 0.9)   # without we have that the graph is very zoomed in\n",
    "        for p in range(len(M)):\n",
    "            plt.plot(np.dot(a2[:,p], g), label='M='+str(M[p]))\n",
    "        plt.legend()\n",
    "        plt.savefig(\"n = \"+str(n[r])+\", cosine conguint.pdf\")\n",
    "        \n",
    "        for p in range(len(M)):\n",
    "            fig = plt.figure() \n",
    "            plt.title(\"Comparison between MC and SGD with M = \"+str(M[p])+\" [r0 = \"+str(r0[r][p])+\", rho = \"+str(rho[r][p])+\"]\") \n",
    "            plt.xlabel(\"Time steps\") \n",
    "            plt.ylabel(\"Evolution of E[cos(X)]\") \n",
    "            plt.ylim(0.8, 0.9)   # without we have that the graph is very zoomed in\n",
    "            plt.plot(np.dot(a2[:,p], g), label='(La)2(t)')\n",
    "            plt.plot(gamma2, label='gamma2')\n",
    "            plt.legend()\n",
    "            plt.savefig(\"n = \"+str(n[r])+\", M = \"+str(M[p])+\" cosine.pdf\")\n",
    "        \n",
    "        \n",
    "        # Both\n",
    "        \n",
    "        for p in range(len(M)):\n",
    "            fig = plt.figure() \n",
    "            plt.title(\"Comparison between MC and SGD with= \"+str(M[p])+\" [r0 = \"+str(r0[r][p])+\", rho = \"+str(rho[r][p])+\"]\") \n",
    "            plt.xlabel(\"Time steps\") \n",
    "            plt.ylabel(\"Evolution of E[sin(X)] e E[cos(X)]\") \n",
    "            # plt.ylim(0.8, 0.9)   # without we have that the graph is very zoomed in\n",
    "            plt.plot(np.dot(a1[:,p], g), label='(La)1(t)')\n",
    "            plt.plot(gamma1, label='gamma1')\n",
    "            plt.plot(np.dot(a2[:,p], g), label='(La)2(t)')\n",
    "            plt.plot(gamma2, label='gamma2')\n",
    "            plt.legend()\n",
    "            plt.savefig(\"n = \"+str(n[r])+\", M = \"+str(M[p])+\" sine and cosine.pdf\")"
   ]
  },
  {
   "cell_type": "code",
   "execution_count": null,
   "id": "ac198a68",
   "metadata": {},
   "outputs": [],
   "source": []
  },
  {
   "cell_type": "code",
   "execution_count": null,
   "id": "f7c408ce",
   "metadata": {},
   "outputs": [],
   "source": []
  }
 ],
 "metadata": {
  "kernelspec": {
   "display_name": "Python 3 (ipykernel)",
   "language": "python",
   "name": "python3"
  },
  "language_info": {
   "codemirror_mode": {
    "name": "ipython",
    "version": 3
   },
   "file_extension": ".py",
   "mimetype": "text/x-python",
   "name": "python",
   "nbconvert_exporter": "python",
   "pygments_lexer": "ipython3",
   "version": "3.9.13"
  }
 },
 "nbformat": 4,
 "nbformat_minor": 5
}
